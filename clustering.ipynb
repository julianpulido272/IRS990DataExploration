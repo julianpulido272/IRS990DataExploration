{
 "cells": [
  {
   "cell_type": "markdown",
   "id": "ee0f3594-6e7b-4eab-bb75-8b5fc0ef5d04",
   "metadata": {},
   "source": [
    "Julian Pulido  \n",
    "STAT 129   \n",
    "clustering  \n",
    "Goal: Apply unsupervised machine learning methods to group text documents into clusters.\r",
    "\r\n"
   ]
  },
  {
   "cell_type": "code",
   "execution_count": 2,
   "id": "5b7aa7ac-afe2-4c8a-acc1-f93f435645d9",
   "metadata": {},
   "outputs": [],
   "source": [
    "#import necesary libraries\n",
    "from collections import Counter\n",
    "import random\n",
    "\n",
    "import numpy as np\n",
    "from sklearn.feature_extraction.text import TfidfVectorizer\n",
    "from sklearn.decomposition import TruncatedSVD\n",
    "from sklearn.cluster import KMeans\n",
    "import scipy as sp\n",
    "import pandas as pd"
   ]
  },
  {
   "cell_type": "markdown",
   "id": "7bc9f0d6-1687-4aed-976c-6af1acf92b7a",
   "metadata": {},
   "source": [
    "**1. What percentage of the total variation in the data do the first 50 principal components explain?**\n"
   ]
  },
  {
   "cell_type": "code",
   "execution_count": 3,
   "id": "75b48666-2a55-4bca-a280-8f5d5cf7efc3",
   "metadata": {},
   "outputs": [
    {
     "name": "stdout",
     "output_type": "stream",
     "text": [
      "Shape of sparse matrix:  (6454, 3166)\n",
      "Shape of principle component: (6454, 100)\n",
      "Percentage of total ratio for first 50 principal components:  23.437367238814474\n"
     ]
    }
   ],
   "source": [
    "#read in sparse TF-IDF matrix\n",
    "sparseMatrix = sp.sparse.load_npz(\"C:\\\\Users\\\\Julian\\\\Downloads\\\\tfidf.npz\")\n",
    "\n",
    "#reading in terms\n",
    "dataTerms = pd.read_csv(\"C:\\\\Users\\\\Julian\\\\Downloads\\\\terms.txt\", delimiter= \" \", header = None)\n",
    "\n",
    "terms = dataTerms.iloc[:,0].tolist()\n",
    "\n",
    "#sparse matrix has 6454 rows, 3166 columns.\n",
    "print(\"Shape of sparse matrix: \", sparseMatrix.shape)\n",
    "\n",
    "#reduce to this dimension\n",
    "ndim = 100\n",
    "\n",
    "#create new object, with dimenion of ndim\n",
    "svd = TruncatedSVD(n_components=ndim, random_state =1)\n",
    "\n",
    "#fit it according to our sparse matrix\n",
    "svd.fit(sparseMatrix)\n",
    "\n",
    "#transform \n",
    "Xpc = svd.transform(sparseMatrix)\n",
    "\n",
    "\n",
    "#PCA can tell us which variable is the most valuable for clustering the data\n",
    "print(\"Shape of principle component:\" , Xpc.shape)\n",
    "\n",
    "#print(100 * sum(svd.explained_variance_ratio_))\n",
    "#print(svd.explained_variance_ratio_)\n",
    "sumation = 0\n",
    "\n",
    "for i in range(50):\n",
    "    sumation += svd.explained_variance_ratio_[i]\n",
    "print(\"Percentage of total ratio for first 50 principal components: \" , 100*sumation)"
   ]
  },
  {
   "cell_type": "markdown",
   "id": "c70f1b63-38ae-4e6f-bd04-60315062043a",
   "metadata": {},
   "source": [
    "**2. Fit the K means clustering model.**  \n",
    "**Experiment with using both the original data and the principal components.**  \n",
    "**Experiment with values of K = 2, 3, 4, 5.**  \n",
    "**Pick your favorite model.**  \n",
    "\n",
    "The model I am picking is k = 3 on the principal components"
   ]
  },
  {
   "cell_type": "code",
   "execution_count": 4,
   "id": "7574edc1-f111-483f-9372-60e16937043d",
   "metadata": {},
   "outputs": [
    {
     "name": "stdout",
     "output_type": "stream",
     "text": [
      "Experimenting on principle components where dimension is  3166\n",
      "k value: 2  clusters:  Counter({0: 3332, 1: 3122})\n",
      "k value: 3  clusters:  Counter({0: 3383, 2: 1770, 1: 1301})\n",
      "k value: 4  clusters:  Counter({0: 2559, 2: 1787, 1: 1296, 3: 812})\n",
      "k value: 5  clusters:  Counter({4: 2047, 2: 1452, 1: 1301, 0: 920, 3: 734})\n",
      "\n",
      "Experimenting on principle components where dimension is  100\n",
      "k value: 2  clusters:  Counter({0: 4981, 1: 1473})\n",
      "k value: 3  clusters:  Counter({0: 3307, 1: 1868, 2: 1279})\n",
      "k value: 4  clusters:  Counter({0: 2505, 3: 1882, 2: 1271, 1: 796})\n",
      "k value: 5  clusters:  Counter({0: 2423, 3: 1859, 2: 1271, 4: 619, 1: 282})\n"
     ]
    }
   ],
   "source": [
    "#different k values\n",
    "values = [2,3,4,5]\n",
    "\n",
    "#create a list of k means models with different values\n",
    "kmModels = [KMeans(n_clusters=value, random_state=1) for value in values]\n",
    "\n",
    "clustersOrignal = []\n",
    "#try on our original data\n",
    "for model in kmModels:\n",
    "    clustersOrignal.append(model.fit_predict(sparseMatrix))\n",
    "\n",
    "#how many are in each cluster?\n",
    "print(\"Experimenting on principle components where dimension is \" ,sparseMatrix.shape[1])\n",
    "for i in range (len(clustersOrignal)):\n",
    "    print(\"k value:\" , kmModels[i].n_clusters , \" clusters: \" , Counter(clustersOrignal[i]))\n",
    "\n",
    "\n",
    "#fitting km models in our orignal data\n",
    "clusters = []\n",
    "for model in kmModels:\n",
    "    clusters.append(model.fit_predict(Xpc))\n",
    "    \n",
    "#how many are in each cluster?\n",
    "print(\"\\nExperimenting on principle components where dimension is \" ,ndim)\n",
    "for i in range (len(clusters)):\n",
    "    print(\"k value:\" , kmModels[i].n_clusters , \" clusters: \" , Counter(clusters[i]))"
   ]
  },
  {
   "cell_type": "markdown",
   "id": "c3fc770c-2bda-450d-b29d-02031a0b8cb8",
   "metadata": {},
   "source": [
    "**3. For the model you picked, print and comment on the 5 terms have the highest coefficients in the cluster centers.**\n",
    "\n",
    "I picked the model with k==3 on the principal components. This created three clusters with the following key words as their centroids:\n",
    "\n",
    "Cluster 0 contained key terms such as `ill provid servic health menta` with the highest coefficients in the cluster centers. Cluster 0 contains non profits that are aimed on providing mental health services to the community. \n",
    "\n",
    "Cluster 1 contained `organ educ communiti refuge immigr` as the coefficients with the highest coefficients. The non profits in this cluster are organizations aimed to deliver educational services to immigrants or refugees.\n",
    "\n",
    "Cluster 2 contained `preparatori educ school colleg student` as the coefficients with the highest coefficients. These non profits are likely to help students prepare for higher education through scholarships, internships, or other assistance."
   ]
  },
  {
   "cell_type": "code",
   "execution_count": 13,
   "id": "6f822c45-94f1-40da-a2fc-4b921d504e1f",
   "metadata": {},
   "outputs": [
    {
     "name": "stdout",
     "output_type": "stream",
     "text": [
      "Index of our indexes after argsort:  (3, 3166)\n",
      "Cluster  0 : ill provid servic health mental \n",
      "\n",
      "Cluster  1 : organ educ communiti refuge immigr \n",
      "\n",
      "Cluster  2 : preparatori educ school colleg student \n",
      "\n"
     ]
    }
   ],
   "source": [
    "#choosing the model with k =4 for principle components\n",
    "\n",
    "#need to inverse transform of SVD\n",
    "Xcenters = svd.inverse_transform(kmModels[1].cluster_centers_)\n",
    "\n",
    "#sorts Xcenters, but only saves the index of the values\n",
    "bigIndexes = np.argsort(Xcenters)\n",
    "\n",
    "print(\"Index of our indexes after argsort: \", bigIndexes.shape)\n",
    "for i in range(kmModels[1].n_clusters):\n",
    "    print(\"Cluster \" , i, \":\" , end= \" \")\n",
    "    #prints the k most important terms in each cluster\n",
    "    for j in range(-5, 0):\n",
    "        print(terms[bigIndexes[i,j]] , end= \" \")\n",
    "    print(\"\\n\")"
   ]
  },
  {
   "cell_type": "markdown",
   "id": "fd1249dd-de96-4c5d-98cb-d9aad4d12bf5",
   "metadata": {},
   "source": [
    "**4. Print out a few random descriptions (from the original mission description data) in each cluster. Comment on what the clusters found. Did clustering do something reasonable?**\n",
    "\n",
    "After choosing a better k value, the clusters are much more clear on what topics they are centered around and doing reasonable clusterings. Choosing a too high k value made clusters overlap with one another. With k==3:\n",
    "\n",
    "Cluster 0 are non profits that are aimed to assist people who have have mental health problems. Each non profit have different measures on assiting, whether providing temporary housing or economic assistanct, but the target group are people who suffer mental health problems.\n",
    "\n",
    "Cluster 1 are communities that are aimed to help refugees or immigrants. Some of them provide legal or financial assistance to families that are detained by immigration.\n",
    "\n",
    "Cluster 2 are communities aimed to help university/college students through scholarships or housing assistance. "
   ]
  },
  {
   "cell_type": "code",
   "execution_count": 12,
   "id": "0aa52573-d287-4f51-882f-a9fe0e99c2ab",
   "metadata": {},
   "outputs": [
    {
     "name": "stdout",
     "output_type": "stream",
     "text": [
      "Cluster:  0\n",
      "['TO ASSIST PEOPLE AFFECTED BY OR AT RISK FOR HIV/AIDS, SUBSTANCE ABUSE AND MENTAL HEALTH THROUGH CULTURALLY APPROPRIATE COUNSELING, EDUCATION, TRAINING, AND ADVOCACY, WHICH RESULTS IN MORE INFORMED CHOICES THAT MAXIMIZE AVAILABLE BENEFITS ANDEMPLOYMENT OPPORTUNITIES FOR CLIENTS.'\n",
      " 'LEADING WITH PREVENTION AND INTERVENTION FOR SUBSTANCE USE AND MENTAL HEALTH CONCERNS'\n",
      " 'ASSISTING INDIVIDUALS WITH HISTORIES OF MENTAL ILLNESS TO OBTAIN AND RETAIN AFFORDABLE HOUSING.']\n",
      "\n",
      "\n",
      "Cluster:  1\n",
      "['The Corporation is organized primarily for the purpose of providing legal and financial assistance to low-income individuals and their families who have been detained by immigration authorities, are charged with or suspected of immigration-related violations, or are seeking to ac'\n",
      " 'TO CARRY OUT THE CHARITABLE PURPOSES OF LUTHERAN IMMIGRATION & REFUGEE SVC (LIRS) AND LUTHERAN WORLD RELIEF (LWR) BY OPERATING THE LUTHERAN CENTER. THE PRIMARY PURPOSE OF THE LCC IS TO MAINTAIN AND OPERATE THE LUTHERAN CENTER, WHICH PROVIDES OFFICE SPACE FOR LIRS AND LWR.'\n",
      " 'Grantmaking: To assist in the fields of environmental protection, historic preservation, the arts and mental health in Cape Ann and the Nashua River Watershed.']\n",
      "\n",
      "\n",
      "Cluster:  2\n",
      "['IN 1850 FREDERICK GUNN ESTABLISHED A SCHOOL BASED ON THE BELIEF THAT STRENGTH OF CHARACTER WAS THE GOAL OF EDUCATION. TODAY, THE FREDERICK GUNN SCHOOL RESTS ON THE FOUR CORNERSTONES OF CHARACTER: SCHOLARSHIP, INTEGRITY, RESPECT AND RESPONSIBILITY. CHARACTER IS FORGED IN A COHESIVE, DIVERSE COMMUNITY INFORMED BY A CHALLENGING COLLEGE PREPARATORY CURRICULUM, A BROAD RANGE OF ATHLETIC, ARTISTIC AND SOCIAL ACTIVITIES AND A FACULTY OF SCHOLARS AND COMMITTED EDUCATORS DEDICATED TO THE INTELLECTUAL AND ETHICAL DEVELOPMENT OF EVERY STUDENT. A FREDERICK GUNN GRADUATE IS A BROADLY EDUCATED, SOCIALLY RESPONSIBLE CITIZEN WITH TESTED BELIEFS, STRENGTH OF CHARACTER AND THE COURAGE TO ACT ON CONVICTIONS.'\n",
      " 'attend a university in Croatia or Bosnia and Herzegovina. For the past 30 years CSF has been providing financial assistance to the financially deserving Croatian university students in Croatia and Bosnia-Herzegovina.'\n",
      " 'FRATERNAL ORGANIZATION PROVIDES ROOM AND BOARD FOR COLLEGE STUDENTS']\n",
      "\n",
      "\n"
     ]
    }
   ],
   "source": [
    "\n",
    "#read our descriptions dataset\n",
    "descriptionsDF = pd.read_csv(\"C:\\\\Users\\\\Julian\\\\Downloads\\\\descriptions.csv\")\n",
    "\n",
    "#for k we chose in this model\n",
    "#we chose k==3, so we will loop for 3 of those clusters\n",
    "for i in range(kmModels[1].n_clusters):\n",
    "    #get an boolean array if a document is in the X cluster\n",
    "    indexInCluster = clusters[1] == i\n",
    "\n",
    "    #get the subset of documents that are in this cluster\n",
    "    gdocs = descriptionsDF[indexInCluster]\n",
    "\n",
    "    print(\"Cluster: \" ,i)\n",
    "\n",
    "\n",
    "    #for all rows, isolate the 2nd column since that contains mission statements\n",
    "    #get few random descriptions\n",
    "    print(np.random.choice(gdocs.iloc[:,2], size =3, replace = True))\n",
    "    print(\"\\n\")\n"
   ]
  }
 ],
 "metadata": {
  "kernelspec": {
   "display_name": "Python 3 (ipykernel)",
   "language": "python",
   "name": "python3"
  },
  "language_info": {
   "codemirror_mode": {
    "name": "ipython",
    "version": 3
   },
   "file_extension": ".py",
   "mimetype": "text/x-python",
   "name": "python",
   "nbconvert_exporter": "python",
   "pygments_lexer": "ipython3",
   "version": "3.12.1"
  }
 },
 "nbformat": 4,
 "nbformat_minor": 5
}
